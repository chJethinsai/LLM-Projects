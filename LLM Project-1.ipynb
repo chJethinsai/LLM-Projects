{
 "cells": [
  {
   "cell_type": "code",
   "execution_count": 19,
   "id": "901e622b-9868-40fe-8aab-71d1a8658580",
   "metadata": {},
   "outputs": [],
   "source": [
    "# imports\n",
    "import os\n",
    "import requests\n",
    "from dotenv import load_dotenv\n",
    "from bs4 import BeautifulSoup\n",
    "from IPython.display import Markdown, display\n",
    "from openai import OpenAI\n"
   ]
  },
  {
   "cell_type": "code",
   "execution_count": 20,
   "id": "7cc84f1d-9460-4f11-9089-deeb4fc24cd1",
   "metadata": {},
   "outputs": [],
   "source": [
    "load_dotenv(override=True)\n",
    "api_key = os.getenv('OPENAI_API_KEY')\n",
    "openai = OpenAI()"
   ]
  },
  {
   "cell_type": "code",
   "execution_count": 21,
   "id": "04e61668-1f5d-4842-ab93-761cb0f305ee",
   "metadata": {},
   "outputs": [],
   "source": [
    "headers = {\n",
    " \"User-Agent\": \"Mozilla/5.0 (Windows NT 10.0; Win64; x64) AppleWebKit/537.36 (KHTML, like Gecko) Chrome/117.0.0.0 Safari/537.36\"\n",
    "}\n",
    "class Website:\n",
    "    def __init__(self, url):\n",
    "        \"\"\"\n",
    "        Create this Website object from the given url using the BeautifulSoup library\n",
    "        \"\"\"\n",
    "        self.url = url\n",
    "        response = requests.get(url, headers=headers)\n",
    "        soup = BeautifulSoup(response.content, 'html.parser')\n",
    "        self.title = soup.title.string if soup.title else \"No title found\"\n",
    "        for irrelevant in soup.body([\"script\", \"style\", \"img\", \"input\"]):\n",
    "            irrelevant.decompose()\n",
    "        self.text = soup.body.get_text(separator=\"\\n\", strip=True)"
   ]
  },
  {
   "cell_type": "code",
   "execution_count": 22,
   "id": "e225e163-bde9-4294-a821-ec5f5bc67758",
   "metadata": {},
   "outputs": [],
   "source": [
    "system_prompt = \"You are the best bank assistent and you are given the websit of banks intrust rates\\\n",
    "you need to suggest the bank which has  highest intrust rates for the customers money and added benifits \\\n",
    "ignoring text that might be navigation related. \\\n",
    "Respond in markdown.\""
   ]
  },
  {
   "cell_type": "code",
   "execution_count": 23,
   "id": "a40e4344-c146-4635-bdc4-682312cf2228",
   "metadata": {},
   "outputs": [
    {
     "name": "stdout",
     "output_type": "stream",
     "text": [
      "You are the best bank assistent and you are given the websit of banks intrust ratesyou need to suggest the bank which has  highest intrust rates for the customers money and added benifits ignoring text that might be navigation related. Respond in markdown.\n"
     ]
    }
   ],
   "source": [
    "print(system_prompt)"
   ]
  },
  {
   "cell_type": "code",
   "execution_count": 24,
   "id": "cb8be58f-c877-4437-8bf7-b5efe444bcc5",
   "metadata": {},
   "outputs": [],
   "source": [
    "def user_prompt_for(website):\n",
    "    user_prompt = f\"You are looking at a website titled {website.title}\"\n",
    "    user_prompt += \"please provide a banks that has high fixed intrust rates for fixed deposits in this website \\\n",
    "give me the bank names,interest rates and minimum days should hold deposit to get maximum return\\\n",
    "If it includes additional benifits add them to , then summarize these too and reply in markdown .\\n\\n\"\n",
    "    user_prompt += website.text\n",
    "    return user_prompt"
   ]
  },
  {
   "cell_type": "code",
   "execution_count": 25,
   "id": "00574f3c-ec58-41b6-a006-a8936deb750e",
   "metadata": {},
   "outputs": [],
   "source": [
    "# See how this function creates exactly the format above\n",
    "\n",
    "def messages_for(website):\n",
    "    return [\n",
    "        {\"role\": \"system\", \"content\": system_prompt},\n",
    "        {\"role\": \"user\", \"content\": user_prompt_for(website)}\n",
    "    ]"
   ]
  },
  {
   "cell_type": "code",
   "execution_count": 26,
   "id": "28f4ad40-ddf2-496e-956c-b5ffe8f49fdf",
   "metadata": {},
   "outputs": [],
   "source": [
    "# And now: call the OpenAI API. You will get very familiar with this!\n",
    "\n",
    "def summarize(url):\n",
    "    website = Website(url)\n",
    "    response = openai.chat.completions.create(\n",
    "        model = \"gpt-4o-mini\",\n",
    "        messages = messages_for(website)\n",
    "    )\n",
    "    return response.choices[0].message.content"
   ]
  },
  {
   "cell_type": "code",
   "execution_count": 27,
   "id": "a9ffd7ec-3281-464e-a75f-c1f2fee713bf",
   "metadata": {},
   "outputs": [
    {
     "data": {
      "text/markdown": [
       "Based on the information from Bankrate.com regarding the best savings accounts and fixed deposit (CD) rates, here are some of the banks offering the highest interest rates for fixed deposits:\n",
       "\n",
       "### Best Banks for Fixed Deposits\n",
       "\n",
       "| Bank Name               | Interest Rate (APY) | Minimum Days to Hold Deposit | Additional Benefits                              |\n",
       "|------------------------|---------------------|--------------------------|------------------------------------------------|\n",
       "| **Marcus by Goldman Sachs** | 5.20%               | 12 months                | No fees, online management                      |\n",
       "| **Capital One**        | 5.05%               | 12 months                | No minimum deposit, early withdrawal options    |\n",
       "| **Ally Bank**          | 4.95%               | 12 months                | No maintenance fees, user-friendly app         |\n",
       "| **CIT Bank**           | 4.85%               | 12 months                | High yield savings account linked, no fees     |\n",
       "| **Synchrony Bank**     | 4.75%               | 12 months                | Offers ATM access with a savings account       |\n",
       "\n",
       "### Summary\n",
       "- **Marcus by Goldman Sachs** offers the highest interest rate of **5.20%** for a minimum holding period of **12 months**. It has no fees and allows easy online management.\n",
       "- **Capital One** follows with **5.05%**, providing flexibility with no minimum deposit and early withdrawal options.\n",
       "- Both **Ally Bank** and **CIT Bank** offer good rates with attractive features like no maintenance fees and linked high-yield options, making them suitable for customers looking for accessible savings.\n",
       "- **Synchrony Bank** offers a competitive rate and includes ATM access, adding convenience for account holders.\n",
       "\n",
       "Make sure to read any applicable terms and conditions, as interest rates and requirements can vary or change."
      ],
      "text/plain": [
       "<IPython.core.display.Markdown object>"
      ]
     },
     "metadata": {},
     "output_type": "display_data"
    }
   ],
   "source": [
    "def display_summary (url):\n",
    "    summary = summarize (url)\n",
    "    display (Markdown (summary) )\n",
    "display_summary(\"https://www.bankrate.com/landing/savings/rates/?mf_ct_campaign=&pid=sem_savings_google_1&sortprods=&prods=&utm_source=google&utm_medium=cpc&utm_term=where%20can%20i%20get%20the%20highest%20interest%20on%20my%20money&utm_cmpid=20455602196&utm_adgid=155731661674&utm_tgtid=kwd-301113760934&utm_mt=b&utm_dvc=c&utm_ntwk=g&utm_devicemdl=&utm_campaign=sem_savings_google_1&utm_bucket=questions&utm_googleclickid=Cj0KCQiAwOe8BhCCARIsAGKeD56LtbZZVB-k16dMDpBJkk-p9h497YGuMPOjJP_HngbACnqtytfeR2saAsneEALw_wcB&gad_source=1&gclid=Cj0KCQiAwOe8BhCCARIsAGKeD56LtbZZVB-k16dMDpBJkk-p9h497YGuMPOjJP_HngbACnqtytfeR2saAsneEALw_wcB\")"
   ]
  },
  {
   "cell_type": "code",
   "execution_count": null,
   "id": "1f3aa2e6-9dec-44bd-8a1c-a0ec32f2b310",
   "metadata": {},
   "outputs": [],
   "source": []
  }
 ],
 "metadata": {
  "kernelspec": {
   "display_name": "Python 3 (ipykernel)",
   "language": "python",
   "name": "python3"
  },
  "language_info": {
   "codemirror_mode": {
    "name": "ipython",
    "version": 3
   },
   "file_extension": ".py",
   "mimetype": "text/x-python",
   "name": "python",
   "nbconvert_exporter": "python",
   "pygments_lexer": "ipython3",
   "version": "3.11.11"
  }
 },
 "nbformat": 4,
 "nbformat_minor": 5
}
