{
 "cells": [
  {
   "cell_type": "code",
   "execution_count": 25,
   "id": "88a6515c-c221-4cac-9a38-c6251bd06336",
   "metadata": {},
   "outputs": [
    {
     "name": "stdout",
     "output_type": "stream",
     "text": [
      "* Running on local URL:  http://127.0.0.1:7869\n",
      "\n",
      "To create a public link, set `share=True` in `launch()`.\n"
     ]
    },
    {
     "data": {
      "text/html": [
       "<div><iframe src=\"http://127.0.0.1:7869/\" width=\"100%\" height=\"500\" allow=\"autoplay; camera; microphone; clipboard-read; clipboard-write;\" frameborder=\"0\" allowfullscreen></iframe></div>"
      ],
      "text/plain": [
       "<IPython.core.display.HTML object>"
      ]
     },
     "metadata": {},
     "output_type": "display_data"
    },
    {
     "data": {
      "text/plain": []
     },
     "execution_count": 25,
     "metadata": {},
     "output_type": "execute_result"
    }
   ],
   "source": [
    "import os\n",
    "import gradio as gr\n",
    "from dotenv import load_dotenv\n",
    "from openai import OpenAI\n",
    "import anthropic\n",
    "\n",
    "# Load environment variables\n",
    "load_dotenv()\n",
    "\n",
    "# Initialize clients\n",
    "openai = OpenAI()\n",
    "claude = anthropic.Anthropic()\n",
    "\n",
    "# System message\n",
    "system_message = \"You are an assistant that helps to update resumes.\"\n",
    "\n",
    "def chat_gpt(message, history):# Added second argument to resolve TypeError\n",
    "    messages = [{\"role\": \"system\", \"content\": system_message}] + history + [{\"role\": \"user\", \"content\": message}]\n",
    "    stream = openai.chat.completions.create(\n",
    "        model=\"gpt-4o-mini\",\n",
    "        messages=messages\n",
    "    )\n",
    "    return stream.choices[0].message.content\n",
    "\n",
    "def chat_claude(message, _=None):  # Added second argument to resolve TypeError\n",
    "    response = claude.messages.create(\n",
    "        model=\"claude-3-haiku-20240307\",\n",
    "        max_tokens=1000,\n",
    "        temperature=0.7,\n",
    "        system=system_message,\n",
    "        messages=[{\"role\": \"user\", \"content\": message}]\n",
    "    )\n",
    "    return response.content[0].text\n",
    "\n",
    "# Updated Gradio Interface with Side-by-Side Chatbots using 'messages' format\n",
    "with gr.Blocks() as ui:\n",
    "    with gr.Row():\n",
    "        with gr.Column():\n",
    "            gr.Markdown(\"### GPT-4 Chat\")\n",
    "            gr.ChatInterface(fn=chat_gpt, title=\"GPT-4 Assistant\", type=\"messages\")\n",
    "        with gr.Column():\n",
    "            gr.Markdown(\"### Claude Chat\")\n",
    "            gr.ChatInterface(fn=chat_claude, title=\"Claude Assistant\", type=\"messages\")\n",
    "\n",
    "ui.launch()\n"
   ]
  },
  {
   "cell_type": "code",
   "execution_count": null,
   "id": "9c9edd16-740d-4c6d-8909-a49f1baca499",
   "metadata": {},
   "outputs": [],
   "source": []
  }
 ],
 "metadata": {
  "kernelspec": {
   "display_name": "Python 3 (ipykernel)",
   "language": "python",
   "name": "python3"
  },
  "language_info": {
   "codemirror_mode": {
    "name": "ipython",
    "version": 3
   },
   "file_extension": ".py",
   "mimetype": "text/x-python",
   "name": "python",
   "nbconvert_exporter": "python",
   "pygments_lexer": "ipython3",
   "version": "3.11.11"
  }
 },
 "nbformat": 4,
 "nbformat_minor": 5
}
